{
 "cells": [
  {
   "cell_type": "markdown",
   "id": "7cfa6e86",
   "metadata": {},
   "source": [
    "\n",
    "## Callable Bonds\n",
    "\n",
    "A callable bond is a type of bond that grants the issuer the right to redeem (or \"call back\") the bond at a predetermined price on specified dates before its maturity. \n",
    "\n",
    "**Advantages for Issuers**\n",
    "\n",
    "From the issuer's perspective, the callable feature provides flexibility to refinance debt if market interest rates decline. This allows issuers to take advantage of lower borrowing costs by calling the existing bonds and issuing new ones at more favorable rates.\n",
    "\n",
    "**Investor Considerations**\n",
    "\n",
    "Investors should note that callable bonds typically offer higher yields compared to non-callable bonds. This higher yield compensates investors for the additional risk associated with the call feature, as the bond may be redeemed before maturity, potentially limiting the investor's interest income.\n"
   ]
  },
  {
   "cell_type": "markdown",
   "id": "8397183d",
   "metadata": {},
   "source": [
    "\n",
    "## Callable Bond Valuation\n",
    "\n",
    "Valuing a callable bond involves calculating the present value of its cash flows, taking into account the possibility that the bond may be called at specific points in time.\n",
    "\n",
    "**Bond's Indenture Key Terms:**\n",
    "\n",
    "- **Coupon Rate**: The fixed interest rate that the bond pays to bondholders, expressed as a percentage of the face value. This rate is used to calculate periodic coupon payments.\n",
    "\n",
    "- **Maturity Date**: The date on which the bond will mature, and the principal amount will be repaid to bondholders.\n",
    "\n",
    "- **Face Value (Principal Amount)**: The amount that will be repaid to bondholders at maturity.\n",
    "\n",
    "- **Call Provision**: Specifies whether the bond can be called (redeemed) before maturity, including any specific call dates and call prices.\n",
    "\n",
    "- **Call Schedule**: Details the specific dates and prices at which the bond can be called before maturity.\n",
    "\n",
    "- **Seniority and Security**: Information regarding the bond's ranking in terms of claims on assets in the event of liquidation, and whether it is secured or unsecured.\n",
    "\n",
    "\n",
    "\n",
    "**Yield to Maturity (YTM)** is a market-derived rate that investors calculate based on the bond's current price and other relevant factors. The yield curve is used to discount the bond's cash flows to their present value. This approach allows for a more accurate valuation that reflects current market conditions and the specific characteristics of the callable bond.\n",
    "\n"
   ]
  },
  {
   "cell_type": "markdown",
   "id": "e7f9bdfb",
   "metadata": {},
   "source": [
    "\n",
    "### Example 1: Valuation of a Callable Bond\n",
    "\n"
   ]
  },
  {
   "cell_type": "code",
   "execution_count": null,
   "id": "de6f902d",
   "metadata": {},
   "outputs": [
    {
     "name": "stdout",
     "output_type": "stream",
     "text": [
      "Present value of the Callable Bond is: $1427.65\n"
     ]
    }
   ],
   "source": [
    "import numpy as np\n",
    "\n",
    "# Callable Bond Terms\n",
    "face_value = 1000  # Face value of the bond\n",
    "coupon_rate = 0.05  # 5% annual coupon rate \n",
    "maturity = 10  # 10 years to maturity\n",
    "call_dates = [5, 7]  # Callable at year 5 and 7 \n",
    "call_prices = [1020, 1010]  # Call prices: $1,020 at year 5 and $1,010 at year 7\n",
    "yield_curve = [0.03, 0.04, 0.045, 0.05, 0.055, 0.06, 0.065, 0.07, 0.075, 0.08]  # Yield curve\n",
    "\n",
    "# Calculate annual coupon payment\n",
    "coupon_payment = face_value * coupon_rate\n",
    "    \n",
    "# Calculate present value for cash flow for each year until maturity \n",
    "present_value = 0.0\n",
    "for year in range(1, maturity + 1):\n",
    "    if year in call_dates: # check if bond can be called this year\n",
    "        call_index = call_dates.index(year)\n",
    "        call_price = call_prices[call_index]\n",
    "            \n",
    "        # Calculate present value if called\n",
    "        present_value_if_called = call_price / (1 + yield_curve[year - 1]) ** year\n",
    "        present_value = max(present_value, present_value_if_called)\n",
    "        \n",
    "        # Present value of coupon payment\n",
    "    present_value += coupon_payment / (1 + yield_curve[year - 1]) ** year\n",
    "    \n",
    "# Add the present value of face value at maturity\n",
    "present_value += face_value / (1 + yield_curve[maturity - 1]) ** maturity\n",
    "\n",
    "print(f\"Present value of the Callable Bond is: ${present_value:.2f}\")\n",
    "\n",
    "\n",
    "\n"
   ]
  },
  {
   "cell_type": "markdown",
   "id": "ce026cc2",
   "metadata": {},
   "source": [
    "\n",
    "### Example 2: Valuation of a Callable Bond\n",
    "\n"
   ]
  },
  {
   "cell_type": "code",
   "execution_count": null,
   "id": "13d9eeb1",
   "metadata": {},
   "outputs": [
    {
     "name": "stdout",
     "output_type": "stream",
     "text": [
      "The present value of the callable bond is: $708670035.66\n"
     ]
    }
   ],
   "source": [
    "# Callable bond terms:\n",
    "face_value = 400_000_000  # principal amount in USD\n",
    "coupon_rate = 0.064  # annual coupon rate 6.4%- the interest payment is semiannual\n",
    "maturity = 7  # 7 years to maturity \n",
    "call_dates = [3, 4, 5, 6]  # Callable at year 3, 4, 5, and 6\n",
    "call_prices = [102.25, 101.75, 101.25, 101.00]  # Call price schedule as %\n",
    "\n",
    "yield_curve = [0.03, 0.04, 0.045, 0.05, 0.055, 0.06, 0.065]  # Example yield curve\n",
    "\n",
    "# Calculate semi-annual coupon payment\n",
    "coupon_payment = face_value * coupon_rate / 2\n",
    "\n",
    "# Cash flows for each semiannual period until maturity\n",
    "total_periods = maturity * 2  # number of periods (14)\n",
    "\n",
    "present_value = 0.0  # Initialize to accumulate the present value of all bond's cash flows.\n",
    "\n",
    "for n in range(1, total_periods + 1):\n",
    "    year = (n + 1) // 2  # Calculate the year based on the period\n",
    "    \n",
    "    # Calculate present value of coupon payment for every period\n",
    "    present_value += coupon_payment / (1 + yield_curve[(n - 1) // 2] / 2) ** n\n",
    "    \n",
    "    # Check for Callable Years\n",
    "    if year in call_dates:  # If the bond can be called in this year\n",
    "        call_index = call_dates.index(year)\n",
    "        call_price = call_prices[call_index] * face_value / 100  # Convert percentage to actual amount\n",
    "        \n",
    "        # Calculate present value if called\n",
    "        PV_if_called = call_price / (1 + yield_curve[year - 1] / 2) ** n  \n",
    "        \n",
    "        # Update present value to reflect the best option available\n",
    "        present_value = max(present_value, PV_if_called)\n",
    "\n",
    "# Add present value of face value at maturity (paid at the end of the last period)\n",
    "present_value += face_value / (1 + yield_curve[maturity - 1] / 2) ** total_periods\n",
    "\n",
    "# Output the present value of the callable bond\n",
    "print(f\"The present value of the callable bond is: ${present_value:.2f}\")\n"
   ]
  },
  {
   "cell_type": "markdown",
   "id": "22e28e7a",
   "metadata": {},
   "source": [
    "\n",
    "\n",
    "## Conclusion\n",
    "\n",
    "Valuing callable bonds involves a nuanced understanding of both the bond's cash flows and the market conditions that influence those cash flows. The presence of call options adds an additional layer of complexity compared to traditional non-callable bonds. Investors must consider not only the expected cash flows from coupon payments and principal repayment but also the potential for early redemption by the issuer, which can significantly impact the bond's value.\n",
    "\n",
    "###  Callable Bond Valuations in Real-Time\n",
    "\n",
    "In real-time markets, the valuation of callable bonds can be quite complex due to several factors:\n",
    "\n",
    "- **Interest Rate Volatility:** Fluctuations in interest rates can affect the likelihood of a bond being called. As rates decline, issuers are more likely to call their bonds, which can lead to reinvestment risk for investors.\n",
    "\n",
    "- **Yield Curve Dynamics:** The shape and shifts in the yield curve can impact the discount rates used for present value calculations. Real-time data is essential for accurate valuations.\n",
    "\n",
    "- **Market Sentiment:** Investor sentiment and macroeconomic factors can influence bond prices and yields, making it necessary to continuously monitor market conditions.\n",
    "\n",
    "- **Modeling the Call Option:** The embedded call option requires sophisticated modeling techniques, such as option pricing models, to accurately assess its value. This adds complexity to the valuation process.\n",
    "\n",
    "- **Regulatory and Credit Risk Considerations:** Changes in regulations or the creditworthiness of the issuer can also affect callable bond valuations, necessitating ongoing analysis.\n",
    "\n",
    "In summary, while callable bonds can offer attractive yields, their valuation requires careful consideration of various dynamic factors. Investors must be equipped with robust analytical tools and real-time data to navigate the complexities of callable bond markets effectively.\n",
    "\n"
   ]
  }
 ],
 "metadata": {
  "kernelspec": {
   "display_name": "base",
   "language": "python",
   "name": "python3"
  },
  "language_info": {
   "codemirror_mode": {
    "name": "ipython",
    "version": 3
   },
   "file_extension": ".py",
   "mimetype": "text/x-python",
   "name": "python",
   "nbconvert_exporter": "python",
   "pygments_lexer": "ipython3",
   "version": "3.11.7"
  }
 },
 "nbformat": 4,
 "nbformat_minor": 5
}
