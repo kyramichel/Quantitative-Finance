{
 "cells": [
  {
   "cell_type": "markdown",
   "id": "3b48abda",
   "metadata": {},
   "source": [
    "\n",
    "### Intro\n",
    "\n",
    "In recent years, the financial markets have witnessed a surge in the use of artificial intelligence (AI) and machine learning (ML) techniques for predicting stock prices and making informed investment decisions. This project aims to develop a simple equity prediction model using synthetic stock price data. By leveraging historical price movements and trading volumes, we will create a binary classification model that predicts whether a stock's price will rise or fall on the following trading day. \n",
    "\n",
    "The model will utilize a Random Forest Classifier, a popular machine learning algorithm known for its robustness and effectiveness in handling classification tasks. We will generate synthetic stock data to simulate real-world scenarios, allowing us to explore the model's performance without relying on actual market data. Through this project, we aim to demonstrate the fundamental concepts of data preparation, feature engineering, model training, and evaluation in the context of stock price prediction"
   ]
  },
  {
   "cell_type": "code",
   "execution_count": 7,
   "id": "93dd3e26",
   "metadata": {},
   "outputs": [
    {
     "name": "stdout",
     "output_type": "stream",
     "text": [
      "[[70 27]\n",
      " [33 70]]\n",
      "              precision    recall  f1-score   support\n",
      "\n",
      "           0       0.68      0.72      0.70        97\n",
      "           1       0.72      0.68      0.70       103\n",
      "\n",
      "    accuracy                           0.70       200\n",
      "   macro avg       0.70      0.70      0.70       200\n",
      "weighted avg       0.70      0.70      0.70       200\n",
      "\n"
     ]
    },
    {
     "data": {
      "image/png": "[encoded data removed]",
      "text/plain": [
       "<Figure size 640x480 with 1 Axes>"
      ]
     },
     "metadata": {},
     "output_type": "display_data"
    }
   ],
   "source": [
    "# Import necessary libraries\n",
    "import pandas as pd\n",
    "import numpy as np\n",
    "import matplotlib.pyplot as plt\n",
    "from sklearn.model_selection import train_test_split\n",
    "from sklearn.ensemble import RandomForestClassifier\n",
    "from sklearn.metrics import classification_report, confusion_matrix\n",
    "\n",
    "# Set a random seed for reproducibility\n",
    "np.random.seed(42)\n",
    "\n",
    "# Generate synthetic stock price data\n",
    "num_days = 1000  # Number of days of data\n",
    "dates = pd.date_range(start='2020-01-01', periods=num_days, freq='B')  # Business days\n",
    "\n",
    "# Generate random stock prices\n",
    "open_prices = np.random.uniform(low=100, high=200, size=num_days)\n",
    "close_prices = open_prices + np.random.uniform(low=-10, high=10, size=num_days)\n",
    "high_prices = np.maximum(open_prices, close_prices) + np.random.uniform(low=0, high=5, size=num_days)\n",
    "low_prices = np.minimum(open_prices, close_prices) - np.random.uniform(low=0, high=5, size=num_days)\n",
    "volume = np.random.randint(low=1000, high=10000, size=num_days)\n",
    "\n",
    "# Create a DataFrame\n",
    "data = pd.DataFrame({\n",
    "    'Date': dates,\n",
    "    'Open': open_prices,\n",
    "    'High': high_prices,\n",
    "    'Low': low_prices,\n",
    "    'Close': close_prices,\n",
    "    'Volume': volume\n",
    "})\n",
    "\n",
    "# Set the Date as the index\n",
    "data.set_index('Date', inplace=True)\n",
    "\n",
    "# Create a new column for the target variable: 1 if the price goes up, 0 if it goes down\n",
    "data['Target'] = np.where(data['Close'].shift(-1) > data['Close'], 1, 0)\n",
    "\n",
    "# Drop rows with NaN values\n",
    "data.dropna(inplace=True)\n",
    "\n",
    "# Select features and target\n",
    "features = data[['Open', 'High', 'Low', 'Close', 'Volume']]\n",
    "target = data['Target']\n",
    "\n",
    "# Split the dataset into training and testing sets\n",
    "X_train, X_test, y_train, y_test = train_test_split(features, target, test_size=0.2, random_state=42)\n",
    "\n",
    "# Initialize the model\n",
    "model = RandomForestClassifier(n_estimators=100, random_state=42)\n",
    "\n",
    "# Train the model\n",
    "model.fit(X_train, y_train)\n",
    "\n",
    "# Make predictions\n",
    "predictions = model.predict(X_test)\n",
    "\n",
    "# Evaluate the model\n",
    "print(confusion_matrix(y_test, predictions))\n",
    "print(classification_report(y_test, predictions))\n",
    "\n",
    "# Optional: Visualize feature importances\n",
    "importances = model.feature_importances_\n",
    "feature_names = features.columns\n",
    "indices = np.argsort(importances)[::-1]\n",
    "\n",
    "plt.figure()\n",
    "plt.title(\"Feature Importances\")\n",
    "plt.bar(range(X_train.shape[1]), importances[indices], align=\"center\")\n",
    "plt.xticks(range(X_train.shape[1]), feature_names[indices], rotation=90)\n",
    "plt.xlim([-1, X_train.shape[1]])\n",
    "plt.show()\n"
   ]
  },
  {
   "cell_type": "markdown",
   "id": "5500e776",
   "metadata": {},
   "source": [
    "\n",
    "### Explanation of the Code:\n",
    "\n",
    "- **Library Imports**: The necessary libraries are imported at the beginning.\n",
    "- **Synthetic Data Generation**: The code generates synthetic stock price data for 1000 business days, including 'Open', 'High', 'Low', 'Close', and 'Volume'.\n",
    "-  **Target Variable Creation**: A target variable is created to indicate whether the stock price will go up or down the next day.\n",
    "- **Data Preparation**: The dataset is cleaned by dropping any rows with NaN values, and features and target variables are selected.\n",
    "- **Train-Test Split**: The dataset is split into training and testing sets.\n",
    "- **Model Initialization and Training**: A Random Forest Classifier is initialized and trained on the training data.\n",
    "- **Predictions and Evaluation**: Predictions are made on the test set, and the model's performance is evaluated using a confusion matrix and classification report.\n",
    "- **Feature Importance Visualization**: The importance of each feature is visualized using a bar chart.\n",
    "\n"
   ]
  },
  {
   "cell_type": "markdown",
   "id": "4da134fa",
   "metadata": {},
   "source": [
    "\n",
    "\n",
    "### Conclusion\n",
    "\n",
    "In conclusion, this project successfully demonstrates the application of machine learning techniques in predicting stock price movements using synthetic data. By generating a dataset that mimics real-world stock prices, we were able to train a Random Forest Classifier to classify whether the stock price would increase or decrease the following day. The evaluation metrics, including the confusion matrix and classification report, provide insights into the model's performance, highlighting its strengths and areas for improvement.\n",
    "\n",
    "While this model serves as a foundational example, it also opens the door to further exploration and enhancement. Future work could involve incorporating additional features, such as technical indicators or macroeconomic factors, and experimenting with more advanced algorithms. Ultimately, the integration of AI in financial markets holds great potential for improving decision-making processes and optimizing investment strategies, paving the way for more sophisticated and accurate predictive models in the future."
   ]
  }
 ],
 "metadata": {
  "kernelspec": {
   "display_name": "base",
   "language": "python",
   "name": "python3"
  },
  "language_info": {
   "codemirror_mode": {
    "name": "ipython",
    "version": 3
   },
   "file_extension": ".py",
   "mimetype": "text/x-python",
   "name": "python",
   "nbconvert_exporter": "python",
   "pygments_lexer": "ipython3",
   "version": "3.11.7"
  }
 },
 "nbformat": 4,
 "nbformat_minor": 5
}
